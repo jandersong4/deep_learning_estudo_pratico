{
  "cells": [
    {
      "cell_type": "markdown",
      "metadata": {
        "id": "QRV_7PdLIXhh"
      },
      "source": [
        "# Prática: Redes Neurais Convolucionais\n",
        "\n",
        "Vamos agora implementar a rede [AlexNet](https://papers.nips.cc/paper/4824-imagenet-classification-with-deep-convolutional-neural-networks.pdf), uma das redes que trouxeram todo esse interesse para a área de *deep learning*.\n",
        "\n",
        "\n",
        "\n"
      ]
    },
    {
      "cell_type": "code",
      "execution_count": 3,
      "metadata": {
        "id": "EAgvY5eBIc1s"
      },
      "outputs": [],
      "source": [
        "import time, os, sys, numpy as np\n",
        "import torch\n",
        "import torchvision\n",
        "import torch.nn as nn\n",
        "import torch.nn.functional as F\n",
        "\n",
        "from torch import optim\n",
        "from torchsummary import summary\n",
        "\n",
        "\n",
        "import time, os, sys, numpy as np\n",
        "\n",
        "# Test if GPU is avaliable, if not, use cpu instead\n",
        "device = torch.device('cuda' if torch.cuda.is_available() else 'cpu')\n",
        "n = torch.cuda.device_count()\n",
        "devices_ids= list(range(n))"
      ]
    },
    {
      "cell_type": "code",
      "execution_count": 4,
      "metadata": {
        "id": "Xru0TyJXIjGp"
      },
      "outputs": [],
      "source": [
        "def load_data_cifar10(batch_size, resize=None, root=os.path.join(\n",
        "        '~', '.pytorch', 'datasets', 'cifar10')):\n",
        "    \"\"\"Download the Cifar10 dataset and then load into memory.\"\"\"\n",
        "    root = os.path.expanduser(root)\n",
        "    transformer = []\n",
        "    if resize:\n",
        "        transformer += [torchvision.transforms.Resize(resize)]\n",
        "    transformer += [torchvision.transforms.ToTensor()]\n",
        "    transformer = torchvision.transforms.Compose(transformer)\n",
        "\n",
        "    mnist_train = torchvision.datasets.CIFAR10(root=root, train=True,download=True,transform=transformer)\n",
        "    mnist_test = torchvision.datasets.CIFAR10(root=root, train=False,download=True,transform=transformer)\n",
        "    num_workers = 0 if sys.platform.startswith('win32') else 4\n",
        "\n",
        "    train_iter = torch.utils.data.DataLoader(mnist_train,\n",
        "                                  batch_size, shuffle=True,\n",
        "                                  num_workers=num_workers)\n",
        "    test_iter = torch.utils.data.DataLoader(mnist_test,\n",
        "                                 batch_size, shuffle=False,\n",
        "                                 num_workers=num_workers)\n",
        "    return train_iter, test_iter\n",
        "\n",
        "\n",
        "# Função usada para calcular acurácia\n",
        "def evaluate_accuracy(data_iter, net, loss):\n",
        "    \"\"\"Evaluate accuracy of a model on the given data set.\"\"\"\n",
        "\n",
        "    acc_sum, n, l = torch.Tensor([0]), 0, 0\n",
        "    net.eval()\n",
        "    with torch.no_grad():\n",
        "      for X, y in data_iter:\n",
        "          X, y = X.to(device), y.to(device)\n",
        "          y_hat = net(X)\n",
        "          l += loss(y_hat, y).sum()\n",
        "          acc_sum += (y_hat.argmax(axis=1) == y).sum().item()\n",
        "          n += y.size()[0]\n",
        "\n",
        "    return acc_sum.item() / n, l.item() / len(data_iter)\n",
        "\n",
        "# Função usada no treinamento e validação da rede\n",
        "def train_validate(net, train_iter, test_iter, batch_size, trainer, loss,\n",
        "                   num_epochs):\n",
        "    print('training on', device)\n",
        "    for epoch in range(num_epochs):\n",
        "        net.train()\n",
        "        train_l_sum, train_acc_sum, n, start = 0.0, 0.0, 0, time.time()\n",
        "        for X, y in train_iter:\n",
        "            X, y = X.to(device), y.to(device)\n",
        "            y_hat = net(X)\n",
        "            trainer.zero_grad()\n",
        "            l = loss(y_hat, y).sum()\n",
        "            l.backward()\n",
        "            trainer.step()\n",
        "            train_l_sum += l.item()\n",
        "            train_acc_sum += (y_hat.argmax(axis=1) == y).sum().item()\n",
        "            n += y.size()[0]\n",
        "        test_acc, test_loss = evaluate_accuracy(test_iter, net, loss)\n",
        "        print('epoch %d, train loss %.4f, train acc %.3f, test loss %.4f, '\n",
        "              'test acc %.3f, time %.1f sec'\n",
        "              % (epoch + 1, train_l_sum / len(train_iter), train_acc_sum / n, test_loss,\n",
        "                 test_acc, time.time() - start))"
      ]
    },
    {
      "cell_type": "markdown",
      "metadata": {
        "id": "TO6YizcSIpiH"
      },
      "source": [
        "## AlexNet\n",
        "\n",
        "Agora já temos todo o conhecimento necessário para implementar nossa primeira arquitetura moderna.\n",
        "Vamos implementar a [AlexNet](https://papers.nips.cc/paper/4824-imagenet-classification-with-deep-convolutional-neural-networks.pdf), uma das arquiteturas mais famosas dessa nova onda de rede neurais.\n",
        "\n",
        "<p align=\"center\">\n",
        "  <img width=700 src=\"https://www.researchgate.net/profile/Jaime_Gallego2/publication/318168077/figure/fig1/AS:578190894927872@1514862859810/AlexNet-CNN-architecture-layers.png\">\n",
        "</p>\n",
        "\n",
        "<p align=\"center\">\n",
        "  <img width=700 src=\"https://miro.medium.com/max/700/1*vXBvV_Unz3JAxytc5iSeoQ.png\">\n",
        "</p>\n",
        "\n",
        "Lembre-se que, após cada camada de convolução e linear, há uma ativação não linear ReLU."
      ]
    },
    {
      "cell_type": "code",
      "execution_count": 5,
      "metadata": {
        "id": "n49zil6YlpwL"
      },
      "outputs": [],
      "source": [
        "root = os.path.join('~', '.pytorch', 'datasets', 'cifar10')"
      ]
    },
    {
      "cell_type": "code",
      "execution_count": 17,
      "metadata": {
        "id": "LMWfNHpvIoRR",
        "outputId": "81a61b9a-1685-4037-ce54-109c49d10fe4",
        "colab": {
          "base_uri": "https://localhost:8080/",
          "height": 0
        }
      },
      "outputs": [
        {
          "output_type": "stream",
          "name": "stdout",
          "text": [
            "----------------------------------------------------------------\n",
            "        Layer (type)               Output Shape         Param #\n",
            "================================================================\n",
            "            Conv2d-1           [-1, 96, 55, 55]          34,944\n",
            "              ReLU-2           [-1, 96, 55, 55]               0\n",
            "         MaxPool2d-3           [-1, 96, 27, 27]               0\n",
            "            Conv2d-4          [-1, 256, 27, 27]         614,656\n",
            "              ReLU-5          [-1, 256, 27, 27]               0\n",
            "         MaxPool2d-6          [-1, 256, 13, 13]               0\n",
            "            Conv2d-7          [-1, 384, 13, 13]         885,120\n",
            "              ReLU-8          [-1, 384, 13, 13]               0\n",
            "            Conv2d-9          [-1, 384, 13, 13]       1,327,488\n",
            "             ReLU-10          [-1, 384, 13, 13]               0\n",
            "           Conv2d-11          [-1, 256, 13, 13]         884,992\n",
            "             ReLU-12          [-1, 256, 13, 13]               0\n",
            "        MaxPool2d-13            [-1, 256, 6, 6]               0\n",
            "           Linear-14                 [-1, 4096]      37,752,832\n",
            "             ReLU-15                 [-1, 4096]               0\n",
            "           Linear-16                 [-1, 4096]      16,781,312\n",
            "             ReLU-17                 [-1, 4096]               0\n",
            "           Linear-18                   [-1, 10]          40,970\n",
            "================================================================\n",
            "Total params: 58,322,314\n",
            "Trainable params: 58,322,314\n",
            "Non-trainable params: 0\n",
            "----------------------------------------------------------------\n",
            "Input size (MB): 0.59\n",
            "Forward/backward pass size (MB): 10.98\n",
            "Params size (MB): 222.48\n",
            "Estimated Total Size (MB): 234.05\n",
            "----------------------------------------------------------------\n",
            "None\n"
          ]
        },
        {
          "output_type": "stream",
          "name": "stderr",
          "text": [
            "100%|██████████| 170M/170M [00:05<00:00, 28.9MB/s]\n"
          ]
        },
        {
          "output_type": "stream",
          "name": "stdout",
          "text": [
            "training on cuda\n"
          ]
        },
        {
          "output_type": "stream",
          "name": "stderr",
          "text": [
            "/usr/local/lib/python3.11/dist-packages/torch/utils/data/dataloader.py:624: UserWarning: This DataLoader will create 4 worker processes in total. Our suggested max number of worker in current system is 2, which is smaller than what this DataLoader is going to create. Please be aware that excessive worker creation might get DataLoader running slow or even freeze, lower the worker number to avoid potential slowness/freeze if necessary.\n",
            "  warnings.warn(\n"
          ]
        },
        {
          "output_type": "stream",
          "name": "stdout",
          "text": [
            "epoch 1, train loss 1.9336, train acc 0.274, test loss 1.5466, test acc 0.431, time 95.5 sec\n",
            "epoch 2, train loss 1.4853, train acc 0.454, test loss 1.3721, test acc 0.498, time 97.0 sec\n",
            "epoch 3, train loss 1.3342, train acc 0.517, test loss 1.2913, test acc 0.540, time 96.3 sec\n",
            "epoch 4, train loss 1.2053, train acc 0.568, test loss 1.1754, test acc 0.587, time 97.7 sec\n",
            "epoch 5, train loss 1.1043, train acc 0.606, test loss 1.1623, test acc 0.587, time 97.5 sec\n",
            "epoch 6, train loss 0.9995, train acc 0.645, test loss 1.0607, test acc 0.627, time 97.4 sec\n",
            "epoch 7, train loss 0.9111, train acc 0.678, test loss 1.0313, test acc 0.645, time 97.4 sec\n",
            "epoch 8, train loss 0.8229, train acc 0.706, test loss 1.0221, test acc 0.649, time 96.7 sec\n",
            "epoch 9, train loss 0.7544, train acc 0.734, test loss 1.1386, test acc 0.633, time 98.0 sec\n",
            "epoch 10, train loss 0.6734, train acc 0.761, test loss 1.0385, test acc 0.656, time 96.3 sec\n",
            "epoch 11, train loss 0.5993, train acc 0.788, test loss 1.0767, test acc 0.657, time 97.0 sec\n",
            "epoch 12, train loss 0.5313, train acc 0.812, test loss 1.1264, test acc 0.654, time 96.8 sec\n",
            "epoch 13, train loss 0.4599, train acc 0.836, test loss 1.1616, test acc 0.657, time 96.5 sec\n",
            "epoch 14, train loss 0.3999, train acc 0.857, test loss 1.2394, test acc 0.656, time 97.3 sec\n",
            "epoch 15, train loss 0.3393, train acc 0.878, test loss 1.2862, test acc 0.652, time 95.8 sec\n",
            "epoch 16, train loss 0.2941, train acc 0.896, test loss 1.3370, test acc 0.659, time 97.4 sec\n",
            "epoch 17, train loss 0.2598, train acc 0.908, test loss 1.4672, test acc 0.652, time 96.6 sec\n",
            "epoch 18, train loss 0.2234, train acc 0.920, test loss 1.6272, test acc 0.656, time 97.4 sec\n",
            "epoch 19, train loss 0.2177, train acc 0.923, test loss 1.5701, test acc 0.646, time 97.5 sec\n",
            "epoch 20, train loss 0.1947, train acc 0.932, test loss 1.7308, test acc 0.652, time 96.3 sec\n"
          ]
        }
      ],
      "source": [
        "# Implementa sua rede neural aqui\n",
        "# Voce pode implementar como uma classe (pois fica mais organizado e é mais facilitado para um debug da rede)\n",
        "# Dica: utilize blocos de sequential para diminuir a complexidade da função de forward\n",
        "# rede baseada na AlexNet\n",
        "import torch.nn as nn\n",
        "\n",
        "class AlexNet(nn.Module):\n",
        "    def __init__(self, input_channels, classes=10, **kwargs):\n",
        "        super(AlexNet, self).__init__(**kwargs)\n",
        "\n",
        "        self.cnnLayers = nn.Sequential(\n",
        "            nn.Conv2d(in_channels = input_channels ,out_channels=96,kernel_size=11, stride=4, padding=0),\n",
        "            nn.ReLU(),\n",
        "            nn.MaxPool2d(kernel_size=3, stride=2, padding=0),\n",
        "            nn.Conv2d(in_channels=96, out_channels=256, kernel_size=5, stride=1, padding=2),\n",
        "            nn.ReLU(),\n",
        "            nn.MaxPool2d(kernel_size=3, stride=2, padding=0),\n",
        "            nn.Conv2d(in_channels=256,out_channels=384,kernel_size=3,stride=1, padding=1),\n",
        "            nn.ReLU(),\n",
        "            nn.Conv2d(in_channels=384, out_channels=384, kernel_size=3, stride=1, padding=1),\n",
        "            nn.ReLU(),\n",
        "            nn.Conv2d(in_channels=384, out_channels=256, kernel_size=3,stride=1, padding=1),\n",
        "            nn.ReLU(),\n",
        "            nn.MaxPool2d(kernel_size=3, stride=2,padding=0)\n",
        "        )\n",
        "\n",
        "        self.linearLayers = nn.Sequential(\n",
        "            nn.Linear(in_features=9216, out_features=4096),\n",
        "            nn.ReLU(),\n",
        "            nn.Linear(in_features=4096, out_features=4096),\n",
        "            nn.ReLU(),\n",
        "            nn.Linear(in_features=4096, out_features= classes),\n",
        "        )\n",
        "\n",
        "\n",
        "\n",
        "    def forward(self, x):\n",
        "        # defina aqui a função de forward\n",
        "        x = self.cnnLayers(x)\n",
        "        x = x.view(x.size(0),-1)\n",
        "        x = self.linearLayers(x)\n",
        "        return x\n",
        "\n",
        "# parâmetros: número de epochs, learning rate (ou taxa de aprendizado),\n",
        "# tamanho do batch, e lambda do weight decay\n",
        "num_epochs, lr, batch_size, wd_lambda = 20, 0.001, 100, 0.0001\n",
        "\n",
        "# Instanciar a rede (lembre-se de passar os parâmetros input_channels e classes)\n",
        "net = AlexNet(input_channels=3, classes=10)\n",
        "# Sending model to device\n",
        "net.to(device)\n",
        "\n",
        "print(summary(net,(3,227,227))) # visualizar o número de parâmetros da rede e output de cada camada\n",
        "\n",
        "# função de custo (ou loss)\n",
        "# defina a função de custo\n",
        "loss = nn.CrossEntropyLoss()\n",
        "\n",
        "# carregamento do dado: cifar10\n",
        "train_iter, test_iter = load_data_cifar10(batch_size, resize=227, root=root)\n",
        "\n",
        "# definindo o otimizador\n",
        "trainer = optim.Adam(net.parameters(), lr=lr, weight_decay=wd_lambda)\n",
        "\n",
        "# treinamento e validação via Pytorch\n",
        "train_validate(net, train_iter, test_iter, batch_size, trainer, loss, num_epochs)"
      ]
    }
  ],
  "metadata": {
    "accelerator": "GPU",
    "colab": {
      "provenance": [],
      "gpuType": "T4"
    },
    "kernelspec": {
      "display_name": "Python 3",
      "name": "python3"
    },
    "language_info": {
      "codemirror_mode": {
        "name": "ipython",
        "version": 3
      },
      "file_extension": ".py",
      "mimetype": "text/x-python",
      "name": "python",
      "nbconvert_exporter": "python",
      "pygments_lexer": "ipython3",
      "version": "3.11.2"
    }
  },
  "nbformat": 4,
  "nbformat_minor": 0
}